{
  "cells": [
    {
      "cell_type": "markdown",
      "metadata": {},
      "source": [
        "# Introduction\n",
        "This notebook is a part of the implementation of the Neural Radiance Fields architecture as a project under the course EE5179: Deep Learning for Imaging. \n",
        "\n",
        "This streamlines the process of converting the video file of any scene which needs to be learnt, into image files of its frames at intervals. There is also the division of train-test sets enabled here which is customisable. This notebook makes use of simple Python libraries to extract frames from the video input file. These images will be fed to another preprocessing tool which will obtain the point cloud of the scene. "
      ]
    },
    {
      "cell_type": "markdown",
      "metadata": {},
      "source": [
        "# Imports"
      ]
    },
    {
      "cell_type": "code",
      "execution_count": null,
      "metadata": {
        "id": "NPDHG4M6LuhI"
      },
      "outputs": [],
      "source": [
        "import cv2\n",
        "from PIL import Image\n",
        "import numpy as np\n",
        "import os\n",
        "import zipfile\n",
        "import shutil"
      ]
    },
    {
      "cell_type": "markdown",
      "metadata": {},
      "source": [
        "# Implementation"
      ]
    },
    {
      "cell_type": "markdown",
      "metadata": {},
      "source": [
        "The `cv2` library breaks down the video into frames, which are extracted as images based on parameters including frame rate and the size of the target image."
      ]
    },
    {
      "cell_type": "code",
      "execution_count": null,
      "metadata": {
        "id": "jsUeLSY-LuhN"
      },
      "outputs": [],
      "source": [
        "def extract_frames_evenly_sampled(video_path, output_folder, num_frames=300, target_size=(400,400)):\n",
        "    cap = cv2.VideoCapture(video_path)\n",
        "    total_frames = int(cap.get(cv2.CAP_PROP_FRAME_COUNT))\n",
        "    frame_rate = total_frames / num_frames\n",
        "    frame_count = 0\n",
        "    output_images = []\n",
        "\n",
        "    while frame_count < total_frames:\n",
        "        ret, frame = cap.read()\n",
        "        if not ret:\n",
        "            break\n",
        "\n",
        "        # Convert the frame to a PIL Image\n",
        "        pil_image = Image.fromarray(cv2.cvtColor(frame, cv2.COLOR_BGR2RGB))\n",
        "\n",
        "        # Resize the image\n",
        "        pil_image = pil_image.resize(target_size, Image.LANCZOS)\n",
        "\n",
        "        # Save the image as a JPEG\n",
        "        output_image_path = os.path.join(output_folder, f\"frame_{frame_count:04.0f}.jpg\")\n",
        "\n",
        "        # output_image_path = os.path.join(output_folder, f\"frame_{frame_count:04d}.jpg\")\n",
        "        pil_image.save(output_image_path, \"JPEG\")\n",
        "        output_images.append(output_image_path)\n",
        "\n",
        "        frame_count += frame_rate\n",
        "\n",
        "    cap.release()\n",
        "    return output_images"
      ]
    },
    {
      "cell_type": "markdown",
      "metadata": {},
      "source": [
        "# Input"
      ]
    },
    {
      "cell_type": "markdown",
      "metadata": {},
      "source": [
        "This is where the path of the input video file is given. It can be changed for your own custom input."
      ]
    },
    {
      "cell_type": "code",
      "execution_count": null,
      "metadata": {
        "id": "nSM1h5FaLuhP"
      },
      "outputs": [],
      "source": [
        "if __name__ == \"__main__\":\n",
        "    video_path = \"saraswathi_vid.mp4\"  # Replace with the path to your video file\n",
        "    output_folder = \"images\"\n",
        "    # output_zip_file = \"frames_evenly_sampled.zip\"\n",
        "    num_frames = 300  # Number of frames to extract\n",
        "\n",
        "    os.makedirs(output_folder, exist_ok=True)\n",
        "    output_images = extract_frames_evenly_sampled(video_path, output_folder, num_frames)\n",
        "    # create_zip_archive(output_images, output_zip_file)"
      ]
    },
    {
      "cell_type": "code",
      "execution_count": null,
      "metadata": {
        "id": "kUZ0kaHyLuhR",
        "outputId": "10b4273e-14c0-4654-8fb7-df74c3ff084b"
      },
      "outputs": [
        {
          "name": "stdout",
          "output_type": "stream",
          "text": [
            "images has been duplicated to duplicate_folder.\n"
          ]
        }
      ],
      "source": [
        "# Specify the path of the source folder you want to duplicate\n",
        "source_folder = \"images\"\n",
        "\n",
        "# Specify the path of the target folder for the duplicate\n",
        "target_folder = \"duplicate_folder\"\n",
        "\n",
        "# Create a duplicate of the source folder\n",
        "shutil.copytree(source_folder, target_folder)\n",
        "\n",
        "print(f\"{source_folder} has been duplicated to {target_folder}.\")"
      ]
    },
    {
      "cell_type": "markdown",
      "metadata": {},
      "source": [
        "# Output"
      ]
    },
    {
      "cell_type": "code",
      "execution_count": null,
      "metadata": {
        "id": "u7UwhRmzLuhT",
        "outputId": "a9a48d82-df37-4430-adb5-11487622b148"
      },
      "outputs": [
        {
          "name": "stdout",
          "output_type": "stream",
          "text": [
            "Every third image has been moved to the 'test_images' folder.\n"
          ]
        }
      ],
      "source": [
        "# Specify the path to the source folder with your images\n",
        "source_folder = \"duplicate_folder\"\n",
        "\n",
        "# Specify the path to the target folder for the selected images\n",
        "train_data = \"train_images\"\n",
        "test_data = \"test_images\"\n",
        "\n",
        "# Create the selected folder if it doesn't exist\n",
        "os.makedirs(train_data, exist_ok=True)\n",
        "os.makedirs(test_data, exist_ok=True)\n",
        "\n",
        "# List all files in the source folder\n",
        "image_files = sorted(os.listdir(source_folder))\n",
        "\n",
        "# Iterate through the images and move every third image to the selected folder\n",
        "for i, image_file in enumerate(image_files):\n",
        "    if i % 3 == 2:  # Every third image\n",
        "        source_path = os.path.join(source_folder, image_file)\n",
        "        target_path = os.path.join(test_data, image_file)\n",
        "        shutil.move(source_path, target_path)\n",
        "    else:\n",
        "        source_path = os.path.join(source_folder, image_file)\n",
        "        target_path = os.path.join(train_data, image_file)\n",
        "        shutil.move(source_path, target_path)\n",
        "\n",
        "print(\"Every third image has been moved to the 'test_images' folder.\")"
      ]
    },
    {
      "cell_type": "code",
      "execution_count": null,
      "metadata": {
        "id": "yC-61TpHLuhU",
        "outputId": "97dc9e29-98a9-4cf9-8f2c-a1fb348d84e1"
      },
      "outputs": [
        {
          "name": "stdout",
          "output_type": "stream",
          "text": [
            "Folder 'duplicate_folder' has been deleted.\n"
          ]
        }
      ],
      "source": [
        "# Specify the path to the empty folder you want to delete\n",
        "folder_to_delete = \"duplicate_folder\"\n",
        "\n",
        "try:\n",
        "    os.rmdir(folder_to_delete)\n",
        "    print(f\"Folder '{folder_to_delete}' has been deleted.\")\n",
        "except OSError as e:\n",
        "    if e.errno == 2:  # Folder not found\n",
        "        print(f\"Folder '{folder_to_delete}' not found.\")\n",
        "    elif e.errno == 39:  # Directory not empty\n",
        "        print(f\"Folder '{folder_to_delete}' is not empty and cannot be deleted.\")\n",
        "    else:\n",
        "        print(f\"An error occurred: {e}\")"
      ]
    },
    {
      "cell_type": "code",
      "execution_count": null,
      "metadata": {
        "id": "f4B9theZLuhV"
      },
      "outputs": [],
      "source": [
        "def zip_folder(source_folder, zip_file_name):\n",
        "    \"\"\"\n",
        "    Zip a folder and save it as a zip file.\n",
        "\n",
        "    Args:\n",
        "        source_folder (str): Path to the source folder to be zipped.\n",
        "        zip_file_name (str): Name of the target zip file.\n",
        "    \"\"\"\n",
        "    with zipfile.ZipFile(zip_file_name, 'w', zipfile.ZIP_DEFLATED) as zipf:\n",
        "        for root, _, files in os.walk(source_folder):\n",
        "            for file in files:\n",
        "                file_path = os.path.join(root, file)\n",
        "                zipf.write(file_path, os.path.relpath(file_path, source_folder))\n",
        "\n",
        "    print(f\"{source_folder} has been zipped to {zip_file_name}.\")"
      ]
    },
    {
      "cell_type": "code",
      "execution_count": null,
      "metadata": {
        "id": "HBddiwb0LuhW",
        "outputId": "92a72e21-532b-469b-ba10-2b7f4df44401"
      },
      "outputs": [
        {
          "name": "stdout",
          "output_type": "stream",
          "text": [
            "images has been zipped to images.zip.\n",
            "train_images has been zipped to train_images.zip.\n",
            "test_images has been zipped to test_images.zip.\n"
          ]
        }
      ],
      "source": [
        "# source_folder = \"frames_evenly_sampled\"\n",
        "# zip_file_name = \"frames_evenly_sampled.zip\"\n",
        "zip_folder(\"images\", \"images.zip\")\n",
        "zip_folder(\"train_images\", \"train_images.zip\")\n",
        "zip_folder(\"test_images\", \"test_images.zip\")"
      ]
    }
  ],
  "metadata": {
    "colab": {
      "provenance": []
    },
    "kernelspec": {
      "display_name": "Python 3.9.18 64-bit",
      "language": "python",
      "name": "python3"
    },
    "language_info": {
      "codemirror_mode": {
        "name": "ipython",
        "version": 3
      },
      "file_extension": ".py",
      "mimetype": "text/x-python",
      "name": "python",
      "nbconvert_exporter": "python",
      "pygments_lexer": "ipython3",
      "version": "3.9.18"
    },
    "orig_nbformat": 4,
    "vscode": {
      "interpreter": {
        "hash": "a665b5d41d17b532ea9890333293a1b812fa0b73c9c25c950b3cedf1bebd0438"
      }
    }
  },
  "nbformat": 4,
  "nbformat_minor": 0
}
